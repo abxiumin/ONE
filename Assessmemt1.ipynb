{
  "nbformat": 4,
  "nbformat_minor": 0,
  "metadata": {
    "colab": {
      "name": "Assessmemt1",
      "provenance": [],
      "collapsed_sections": [],
      "include_colab_link": true
    },
    "kernelspec": {
      "name": "ir",
      "display_name": "R"
    }
  },
  "cells": [
    {
      "cell_type": "markdown",
      "metadata": {
        "id": "view-in-github",
        "colab_type": "text"
      },
      "source": [
        "<a href=\"https://colab.research.google.com/github/abxiumin/ONE/blob/master/Assessmemt1.ipynb\" target=\"_parent\"><img src=\"https://colab.research.google.com/assets/colab-badge.svg\" alt=\"Open In Colab\"/></a>"
      ]
    },
    {
      "cell_type": "code",
      "metadata": {
        "id": "Lw4kWe1jWpq3",
        "colab_type": "code",
        "colab": {
          "base_uri": "https://localhost:8080/",
          "height": 34
        },
        "outputId": "7018937f-56c6-49df-f297-0f672a14939d"
      },
      "source": [
        "class(7)"
      ],
      "execution_count": null,
      "outputs": [
        {
          "output_type": "display_data",
          "data": {
            "text/plain": [
              "[1] \"numeric\""
            ],
            "text/latex": "'numeric'",
            "text/markdown": "'numeric'",
            "text/html": [
              "'numeric'"
            ]
          },
          "metadata": {
            "tags": []
          }
        }
      ]
    },
    {
      "cell_type": "code",
      "metadata": {
        "id": "5Mb52PTkXZys",
        "colab_type": "code",
        "colab": {
          "base_uri": "https://localhost:8080/",
          "height": 34
        },
        "outputId": "022b5b29-8709-45ba-f645-310bde4d0d84"
      },
      "source": [
        "8>7"
      ],
      "execution_count": null,
      "outputs": [
        {
          "output_type": "display_data",
          "data": {
            "text/plain": [
              "[1] TRUE"
            ],
            "text/latex": "TRUE",
            "text/markdown": "TRUE",
            "text/html": [
              "TRUE"
            ]
          },
          "metadata": {
            "tags": []
          }
        }
      ]
    },
    {
      "cell_type": "code",
      "metadata": {
        "id": "G-LcD9e1XGEp",
        "colab_type": "code",
        "colab": {
          "base_uri": "https://localhost:8080/",
          "height": 34
        },
        "outputId": "9a2039cc-4c27-43ea-80a3-aa35d2f3ec41"
      },
      "source": [
        "class(\"hi\")"
      ],
      "execution_count": null,
      "outputs": [
        {
          "output_type": "display_data",
          "data": {
            "text/plain": [
              "[1] \"character\""
            ],
            "text/latex": "'character'",
            "text/markdown": "'character'",
            "text/html": [
              "'character'"
            ]
          },
          "metadata": {
            "tags": []
          }
        }
      ]
    },
    {
      "cell_type": "code",
      "metadata": {
        "id": "2ZLxdWWtXcCs",
        "colab_type": "code",
        "colab": {
          "base_uri": "https://localhost:8080/",
          "height": 34
        },
        "outputId": "693e4c2f-cfa6-4875-96cb-308b9f61e10d"
      },
      "source": [
        "8+7"
      ],
      "execution_count": null,
      "outputs": [
        {
          "output_type": "display_data",
          "data": {
            "text/plain": [
              "[1] 15"
            ],
            "text/latex": "15",
            "text/markdown": "15",
            "text/html": [
              "15"
            ]
          },
          "metadata": {
            "tags": []
          }
        }
      ]
    },
    {
      "cell_type": "code",
      "metadata": {
        "id": "tJyc4FgSYc_6",
        "colab_type": "code",
        "colab": {}
      },
      "source": [
        "my_H <- 164"
      ],
      "execution_count": null,
      "outputs": []
    },
    {
      "cell_type": "code",
      "metadata": {
        "id": "6mOmL7KHY1Q_",
        "colab_type": "code",
        "colab": {}
      },
      "source": [
        "my_W <- 55"
      ],
      "execution_count": null,
      "outputs": []
    },
    {
      "cell_type": "code",
      "metadata": {
        "id": "mtcc_DBsZGU8",
        "colab_type": "code",
        "colab": {
          "base_uri": "https://localhost:8080/",
          "height": 34
        },
        "outputId": "9f28acb1-b5bb-45d0-89ac-b95ddbeb2fa7"
      },
      "source": [
        "my_H"
      ],
      "execution_count": null,
      "outputs": [
        {
          "output_type": "display_data",
          "data": {
            "text/plain": [
              "[1] 164"
            ],
            "text/latex": "164",
            "text/markdown": "164",
            "text/html": [
              "164"
            ]
          },
          "metadata": {
            "tags": []
          }
        }
      ]
    },
    {
      "cell_type": "code",
      "metadata": {
        "id": "YFgcQ_0Xay-g",
        "colab_type": "code",
        "colab": {
          "base_uri": "https://localhost:8080/",
          "height": 34
        },
        "outputId": "6d9cfb97-e781-4d29-e99f-b71e68b46df3"
      },
      "source": [
        "55/1.64/1.64"
      ],
      "execution_count": null,
      "outputs": [
        {
          "output_type": "display_data",
          "data": {
            "text/plain": [
              "[1] 20.44914"
            ],
            "text/latex": "20.4491374182035",
            "text/markdown": "20.4491374182035",
            "text/html": [
              "20.4491374182035"
            ]
          },
          "metadata": {
            "tags": []
          }
        }
      ]
    },
    {
      "cell_type": "code",
      "metadata": {
        "id": "7TSLad_9claN",
        "colab_type": "code",
        "colab": {}
      },
      "source": [
        "my_BMI <- 20.4491374182035"
      ],
      "execution_count": null,
      "outputs": []
    },
    {
      "cell_type": "code",
      "metadata": {
        "id": "Syu4bPY8Zwd1",
        "colab_type": "code",
        "colab": {}
      },
      "source": [
        "first_name<-\"Sichi\""
      ],
      "execution_count": null,
      "outputs": []
    },
    {
      "cell_type": "code",
      "metadata": {
        "id": "46P4WbqXaKf7",
        "colab_type": "code",
        "colab": {
          "base_uri": "https://localhost:8080/",
          "height": 34
        },
        "outputId": "c0047910-17a0-4aa5-ee6b-781165bc3133"
      },
      "source": [
        "first_name"
      ],
      "execution_count": null,
      "outputs": [
        {
          "output_type": "display_data",
          "data": {
            "text/plain": [
              "[1] \"Sichi\""
            ],
            "text/latex": "'Sichi'",
            "text/markdown": "'Sichi'",
            "text/html": [
              "'Sichi'"
            ]
          },
          "metadata": {
            "tags": []
          }
        }
      ]
    },
    {
      "cell_type": "code",
      "metadata": {
        "id": "k1jENj62bPNK",
        "colab_type": "code",
        "colab": {
          "base_uri": "https://localhost:8080/",
          "height": 34
        },
        "outputId": "74fc99e1-1fab-4e65-90a4-210217620129"
      },
      "source": [
        "paste0(\"我的身高\",my_H)"
      ],
      "execution_count": null,
      "outputs": [
        {
          "output_type": "display_data",
          "data": {
            "text/plain": [
              "[1] \"我的身高164\""
            ],
            "text/latex": "'我的身高164'",
            "text/markdown": "'我的身高164'",
            "text/html": [
              "'我的身高164'"
            ]
          },
          "metadata": {
            "tags": []
          }
        }
      ]
    },
    {
      "cell_type": "code",
      "metadata": {
        "id": "WMwhUAxVcY5N",
        "colab_type": "code",
        "colab": {
          "base_uri": "https://localhost:8080/",
          "height": 34
        },
        "outputId": "3476dccb-3563-4c8d-af9c-6284beae1820"
      },
      "source": [
        "paste0(\"我的體重\",my_W)"
      ],
      "execution_count": null,
      "outputs": [
        {
          "output_type": "display_data",
          "data": {
            "text/plain": [
              "[1] \"我的體重55\""
            ],
            "text/latex": "'我的體重55'",
            "text/markdown": "'我的體重55'",
            "text/html": [
              "'我的體重55'"
            ]
          },
          "metadata": {
            "tags": []
          }
        }
      ]
    },
    {
      "cell_type": "code",
      "metadata": {
        "id": "u17ouOv4cfp6",
        "colab_type": "code",
        "colab": {
          "base_uri": "https://localhost:8080/",
          "height": 34
        },
        "outputId": "82698ba5-8554-4d71-8189-02c38d7f844c"
      },
      "source": [
        "paste0(\"我的BMI\",my_BMI)"
      ],
      "execution_count": null,
      "outputs": [
        {
          "output_type": "display_data",
          "data": {
            "text/plain": [
              "[1] \"我的BMI20.4491374182035\""
            ],
            "text/latex": "'我的BMI20.4491374182035'",
            "text/markdown": "'我的BMI20.4491374182035'",
            "text/html": [
              "'我的BMI20.4491374182035'"
            ]
          },
          "metadata": {
            "tags": []
          }
        }
      ]
    }
  ]
}